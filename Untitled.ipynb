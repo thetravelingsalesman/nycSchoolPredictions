{
 "cells": [
  {
   "cell_type": "code",
   "execution_count": 12,
   "metadata": {
    "collapsed": false
   },
   "outputs": [
    {
     "name": "stdout",
     "output_type": "stream",
     "text": [
      "12.0389328405\n",
      "18.5046712231\n",
      "35.5747627401\n",
      "62.0277181132\n",
      "81.8006375464\n",
      "3.07618210022\n",
      "28.6646819514\n",
      "97.9567122918\n",
      "9.48845077087\n",
      "30.7195597883\n",
      "6.21293978574\n",
      "25.143183479\n",
      "63.32717724\n",
      "58.9775083564\n",
      "84.4905571391\n",
      "23.1567034214\n",
      "50.768324691\n",
      "61.6913636609\n",
      "20.7038445696\n",
      "24.7426202617\n"
     ]
    }
   ],
   "source": [
    "import numpy as np\n",
    "for i in range(20):\n",
    "    validationHistory =[]\n",
    "    newVal = np.random.rand(1)[0]*100\n",
    "    print newVal\n",
    "    validationHistory.append(newVal)\n",
    "\n",
    "    patience =2\n",
    "    isGettingWorse = True\n",
    "    if len(validationHistory) >= patience :\n",
    "\n",
    "        for i in range(1,patience -1 ): #compare latest perplexity with previous values \n",
    "        # if it improves once in last patience rounds then don't stop\n",
    "            isGettingWorse *= validationHistory[-1 -i + 1 ] - validationHistory[-1 - i] < 0\n",
    "\n",
    "            if isGettingWorse == True:\n",
    "                print \"its getting worse\"\n",
    "                break"
   ]
  },
  {
   "cell_type": "code",
   "execution_count": 4,
   "metadata": {
    "collapsed": false
   },
   "outputs": [
    {
     "data": {
      "text/plain": [
       "0.71422823720914141"
      ]
     },
     "execution_count": 4,
     "metadata": {},
     "output_type": "execute_result"
    }
   ],
   "source": [
    "np.random.rand(1)[0]"
   ]
  },
  {
   "cell_type": "code",
   "execution_count": null,
   "metadata": {
    "collapsed": true
   },
   "outputs": [],
   "source": []
  }
 ],
 "metadata": {
  "kernelspec": {
   "display_name": "Python 2",
   "language": "python",
   "name": "python2"
  },
  "language_info": {
   "codemirror_mode": {
    "name": "ipython",
    "version": 2
   },
   "file_extension": ".py",
   "mimetype": "text/x-python",
   "name": "python",
   "nbconvert_exporter": "python",
   "pygments_lexer": "ipython2",
   "version": "2.7.12"
  }
 },
 "nbformat": 4,
 "nbformat_minor": 1
}
