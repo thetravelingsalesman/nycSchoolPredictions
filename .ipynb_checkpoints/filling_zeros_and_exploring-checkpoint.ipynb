{
 "cells": [
  {
   "cell_type": "code",
   "execution_count": 26,
   "metadata": {
    "collapsed": true
   },
   "outputs": [],
   "source": [
    "import pandas as pd\n",
    "import numpy as np\n",
    "import json\n",
    "from shapely.geometry import mapping, shape"
   ]
  },
  {
   "cell_type": "code",
   "execution_count": 27,
   "metadata": {
    "collapsed": true
   },
   "outputs": [],
   "source": [
    "school_url = \"http://services5.arcgis.com/GfwWNkhOj9bNBqoJ/arcgis/rest/services/nysd/FeatureServer/0/query?where=1=1&outFields=*&outSR=4326&f=geojson\""
   ]
  },
  {
   "cell_type": "code",
   "execution_count": null,
   "metadata": {
    "collapsed": true
   },
   "outputs": [],
   "source": []
  },
  {
   "cell_type": "code",
   "execution_count": 24,
   "metadata": {
    "collapsed": false
   },
   "outputs": [],
   "source": [
    "df = pd.read_csv('data/nyc_doe.csv', index_col=None)"
   ]
  },
  {
   "cell_type": "code",
   "execution_count": 5,
   "metadata": {
    "collapsed": false
   },
   "outputs": [
    {
     "data": {
      "text/html": [
       "<div>\n",
       "<table border=\"1\" class=\"dataframe\">\n",
       "  <thead>\n",
       "    <tr style=\"text-align: right;\">\n",
       "      <th></th>\n",
       "      <th>2010 Census Tract</th>\n",
       "      <th>School Year</th>\n",
       "      <th>Grade Level</th>\n",
       "      <th>Count of Students</th>\n",
       "    </tr>\n",
       "  </thead>\n",
       "  <tbody>\n",
       "    <tr>\n",
       "      <th>0</th>\n",
       "      <td>18</td>\n",
       "      <td>20012002</td>\n",
       "      <td>2</td>\n",
       "      <td>1</td>\n",
       "    </tr>\n",
       "    <tr>\n",
       "      <th>1</th>\n",
       "      <td>18</td>\n",
       "      <td>20022003</td>\n",
       "      <td>3</td>\n",
       "      <td>1</td>\n",
       "    </tr>\n",
       "    <tr>\n",
       "      <th>2</th>\n",
       "      <td>18</td>\n",
       "      <td>20032004</td>\n",
       "      <td>K</td>\n",
       "      <td>1</td>\n",
       "    </tr>\n",
       "    <tr>\n",
       "      <th>3</th>\n",
       "      <td>18</td>\n",
       "      <td>20032004</td>\n",
       "      <td>3</td>\n",
       "      <td>1</td>\n",
       "    </tr>\n",
       "    <tr>\n",
       "      <th>4</th>\n",
       "      <td>18</td>\n",
       "      <td>20032004</td>\n",
       "      <td>4</td>\n",
       "      <td>1</td>\n",
       "    </tr>\n",
       "  </tbody>\n",
       "</table>\n",
       "</div>"
      ],
      "text/plain": [
       "   2010 Census Tract  School Year Grade Level  Count of Students\n",
       "0                 18     20012002           2                  1\n",
       "1                 18     20022003           3                  1\n",
       "2                 18     20032004           K                  1\n",
       "3                 18     20032004           3                  1\n",
       "4                 18     20032004           4                  1"
      ]
     },
     "execution_count": 5,
     "metadata": {},
     "output_type": "execute_result"
    }
   ],
   "source": [
    "df.head()"
   ]
  },
  {
   "cell_type": "code",
   "execution_count": 6,
   "metadata": {
    "collapsed": false
   },
   "outputs": [],
   "source": [
    "CTs = np.unique(df['2010 Census Tract'])\n",
    "Yrs = np.unique(df['School Year'])\n",
    "Gs = np.unique(df['Grade Level'])"
   ]
  },
  {
   "cell_type": "code",
   "execution_count": 7,
   "metadata": {
    "collapsed": true
   },
   "outputs": [],
   "source": [
    "index = []\n",
    "for ct in CTs:\n",
    "    for yr in Yrs:\n",
    "        for g in Gs:\n",
    "            index.append((ct, yr, g))"
   ]
  },
  {
   "cell_type": "code",
   "execution_count": 8,
   "metadata": {
    "collapsed": false
   },
   "outputs": [],
   "source": [
    "new_df = pd.DataFrame(np.zeros(len(index)), index=index)\n",
    "new_df.index = pd.MultiIndex.from_tuples(new_df.index)\n",
    "new_df.index.names = ['2010_CT', 'AY', 'GL']\n",
    "new_df.columns = ['Final Count of Students']"
   ]
  },
  {
   "cell_type": "code",
   "execution_count": 9,
   "metadata": {
    "collapsed": false
   },
   "outputs": [
    {
     "data": {
      "text/html": [
       "<div>\n",
       "<table border=\"1\" class=\"dataframe\">\n",
       "  <thead>\n",
       "    <tr style=\"text-align: right;\">\n",
       "      <th></th>\n",
       "      <th></th>\n",
       "      <th></th>\n",
       "      <th>Final Count of Students</th>\n",
       "    </tr>\n",
       "    <tr>\n",
       "      <th>2010_CT</th>\n",
       "      <th>AY</th>\n",
       "      <th>GL</th>\n",
       "      <th></th>\n",
       "    </tr>\n",
       "  </thead>\n",
       "  <tbody>\n",
       "    <tr>\n",
       "      <th rowspan=\"5\" valign=\"top\">18</th>\n",
       "      <th rowspan=\"5\" valign=\"top\">20012002</th>\n",
       "      <th>1</th>\n",
       "      <td>0.0</td>\n",
       "    </tr>\n",
       "    <tr>\n",
       "      <th>2</th>\n",
       "      <td>0.0</td>\n",
       "    </tr>\n",
       "    <tr>\n",
       "      <th>3</th>\n",
       "      <td>0.0</td>\n",
       "    </tr>\n",
       "    <tr>\n",
       "      <th>4</th>\n",
       "      <td>0.0</td>\n",
       "    </tr>\n",
       "    <tr>\n",
       "      <th>5</th>\n",
       "      <td>0.0</td>\n",
       "    </tr>\n",
       "  </tbody>\n",
       "</table>\n",
       "</div>"
      ],
      "text/plain": [
       "                     Final Count of Students\n",
       "2010_CT AY       GL                         \n",
       "18      20012002 1                       0.0\n",
       "                 2                       0.0\n",
       "                 3                       0.0\n",
       "                 4                       0.0\n",
       "                 5                       0.0"
      ]
     },
     "execution_count": 9,
     "metadata": {},
     "output_type": "execute_result"
    }
   ],
   "source": [
    "new_df.head()"
   ]
  },
  {
   "cell_type": "code",
   "execution_count": 10,
   "metadata": {
    "collapsed": false
   },
   "outputs": [],
   "source": [
    "df.columns = ['2010_CT', 'AY', 'GL', 'Count']\n",
    "df.set_index(['2010_CT', 'AY', 'GL'], inplace=True)"
   ]
  },
  {
   "cell_type": "code",
   "execution_count": 11,
   "metadata": {
    "collapsed": false
   },
   "outputs": [],
   "source": [
    "final = new_df.join(df)"
   ]
  },
  {
   "cell_type": "code",
   "execution_count": 12,
   "metadata": {
    "collapsed": false
   },
   "outputs": [],
   "source": [
    "final.fillna(0, inplace=True)\n",
    "final.drop('Final Count of Students', axis=1, inplace=True)"
   ]
  },
  {
   "cell_type": "code",
   "execution_count": 18,
   "metadata": {
    "collapsed": false
   },
   "outputs": [
    {
     "data": {
      "text/plain": [
       "array([   18,    20,    22,    30,    34,    36,    38,    44,    46,\n",
       "          50,    51,    54,    58,    60,    62,    64,    66,    68,\n",
       "          70,    72,    74,    75,    76,    78,    80,    82,    90,\n",
       "          94,    96,    98,   100,   102,   104,   106,   108,   110,\n",
       "         114,   116,   118,   120,   122,   126,   130,   132,   134,\n",
       "         136,   138,   140,   142,   148,   150,   152,   160,   162,\n",
       "         164,   166,   168,   170,   172,   174,   176,   178,   180,\n",
       "         182,   184,   186,   188,   190,   192,   194,   196,   198,\n",
       "         200,   202,   204,   206,   207,   208,   210,   212,   214,\n",
       "         216,   218,   220,   221,   222,   228,   230,   232,   234,\n",
       "         236,   238,   240,   242,   244,   246,   248,   250,   252,\n",
       "         254,   256,   258,   260,   262,   264,   266,   268,   270,\n",
       "         272,   274,   276,   278,   280,   282,   284,   286,   288,\n",
       "         290,   292,   294,   296,   298,   421,   428,   430,   432,\n",
       "         434,   436,   464,   468,   470,   472,   474,   476,   478,\n",
       "         480,   484,   486,   488,   489,   490,   492,   494,   726,\n",
       "         902,   906,  1144,  5201,  5202,  5601,  5602, 12801, 46201,\n",
       "       50804, 51601, 61002, 69602])"
      ]
     },
     "execution_count": 18,
     "metadata": {},
     "output_type": "execute_result"
    }
   ],
   "source": [
    "CTs"
   ]
  },
  {
   "cell_type": "code",
   "execution_count": 14,
   "metadata": {
    "collapsed": false
   },
   "outputs": [],
   "source": [
    "test = final.query(\"AY in [20092010, 20102011]\")\n",
    "train = final.query(\"AY not in [20092010, 20102011]\")"
   ]
  },
  {
   "cell_type": "code",
   "execution_count": 15,
   "metadata": {
    "collapsed": true
   },
   "outputs": [],
   "source": [
    "test.to_csv('data/test_with_zeros.csv')\n",
    "train.to_csv('data/train_with_zeros.csv')"
   ]
  },
  {
   "cell_type": "code",
   "execution_count": 16,
   "metadata": {
    "collapsed": false
   },
   "outputs": [
    {
     "data": {
      "text/plain": [
       "105.0"
      ]
     },
     "execution_count": 16,
     "metadata": {},
     "output_type": "execute_result"
    }
   ],
   "source": [
    "np.max(train.Count)"
   ]
  },
  {
   "cell_type": "code",
   "execution_count": null,
   "metadata": {
    "collapsed": true
   },
   "outputs": [],
   "source": []
  }
 ],
 "metadata": {
  "kernelspec": {
   "display_name": "Python 2",
   "language": "python",
   "name": "python2"
  },
  "language_info": {
   "codemirror_mode": {
    "name": "ipython",
    "version": 2
   },
   "file_extension": ".py",
   "mimetype": "text/x-python",
   "name": "python",
   "nbconvert_exporter": "python",
   "pygments_lexer": "ipython2",
   "version": "2.7.10"
  }
 },
 "nbformat": 4,
 "nbformat_minor": 0
}
